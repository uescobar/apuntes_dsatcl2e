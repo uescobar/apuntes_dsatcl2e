{
 "cells": [
  {
   "cell_type": "markdown",
   "id": "5db3207b",
   "metadata": {},
   "source": [
    "De acuerdo con la filosofía de UNIX, el texto es la interfaz universal. Casi todas las herramientas de línea de comandos toman texto como entrada y producen texto como salida, o ambos."
   ]
  }
 ],
 "metadata": {
  "kernelspec": {
   "display_name": "Python 3 (ipykernel)",
   "language": "python",
   "name": "python3"
  },
  "language_info": {
   "codemirror_mode": {
    "name": "ipython",
    "version": 3
   },
   "file_extension": ".py",
   "mimetype": "text/x-python",
   "name": "python",
   "nbconvert_exporter": "python",
   "pygments_lexer": "ipython3",
   "version": "3.9.7"
  }
 },
 "nbformat": 4,
 "nbformat_minor": 5
}
