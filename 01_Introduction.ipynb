{
 "cells": [
  {
   "cell_type": "markdown",
   "id": "f083f446",
   "metadata": {},
   "source": [
    "# OSEMN\n",
    "\n",
    "## Obtain\n",
    "\n",
    "* Download data from another location (a web page or server)\n",
    "* Query data from a database or API (MySQL or Twitter) \n",
    "* Extract data from another file (an HTMLfile or a spreadsheet)\n",
    "* Generate data yourself (reading sensors or taking surveys)\n",
    "\n",
    "## Scrub (or clean data)\n",
    "\n",
    "* Filtering lines\n",
    "* Extracting certain columns\n",
    "* Replacing values\n",
    "* Extracting words\n",
    "* Handling missing values and duplicates\n",
    "* Conerting data from one format to another\n",
    "\n",
    "In Data Jujitsu (O'Reilly), DJ Patil states \"80% of the work in any data project is in cleaning the data\"\n",
    "\n",
    "## Explore\n",
    "\n",
    "* Look at your data\n",
    "* Derive statistics from your data\n",
    "* Create insightful visualizations\n",
    "\n",
    "## Modeling data\n",
    "\n",
    "* Create statistical model of your data\n",
    "* Clustering\n",
    "* Classification\n",
    "* Regression\n",
    "* Dimentionality reduction\n",
    "\n",
    "Create a model locally or use an API to perform the computation in the cloud.\n",
    "\n",
    "## Interpreting Data\n",
    "\n",
    "* Drawing conclusions from your data\n",
    "* Evaluating what your results mean\n",
    "* Communicating your results\n",
    "\n",
    "Read the book *Thinking with Data* by Max Shron (O'Reilly)   "
   ]
  },
  {
   "cell_type": "markdown",
   "id": "e2526446",
   "metadata": {},
   "source": [
    "# Why Data Science at Command Line?\n",
    "\n",
    "## The command line is algile\n",
    "\n",
    "Data science has a very interactive and exploratoratory nature.\n",
    "\n",
    "The command line provides a so-called *read-eval-print-loop* (REPL). Allows repeat commands and no need to compile.\n",
    "\n",
    "The command line is very close to the filesystem.\n",
    "\n",
    "## The command line is augmenting \n",
    "\n",
    "The command line integrates well with other tecnologies.\n",
    "\n",
    "You can convert your code (Python or R scripts) into a reusable command-line tool.\n",
    "\n",
    "## The command line is scalable\n",
    "\n",
    "Everithing that you type manually on the command line can also be automated through scripts and tools. Rerun commands when data has changed, commands can be run at specific intervals, on a remote server, and in parallel on many chuncks of data.\n",
    "\n",
    "## The command line is extensible\n",
    "\n",
    "The command lines itself is language agnostic. New command line tools are produced everyday by the open source community.\n",
    "\n",
    "## The command line is ubiquitous\n",
    "\n",
    "Command line is everywhere."
   ]
  }
 ],
 "metadata": {
  "kernelspec": {
   "display_name": "Python 3 (ipykernel)",
   "language": "python",
   "name": "python3"
  },
  "language_info": {
   "codemirror_mode": {
    "name": "ipython",
    "version": 3
   },
   "file_extension": ".py",
   "mimetype": "text/x-python",
   "name": "python",
   "nbconvert_exporter": "python",
   "pygments_lexer": "ipython3",
   "version": "3.9.7"
  }
 },
 "nbformat": 4,
 "nbformat_minor": 5
}
